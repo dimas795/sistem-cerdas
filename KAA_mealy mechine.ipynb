{
 "cells": [
  {
   "cell_type": "code",
   "execution_count": 2,
   "id": "2517c1b3",
   "metadata": {},
   "outputs": [],
   "source": [
    "tabelTransisi = {\n",
    "    ('q0','1') : ('q1','satu'),\n",
    "    ('q0','2') : ('q1','dua'),\n",
    "    ('q0','3') : ('q1','tiga'),\n",
    "    ('q0','4') : ('q1','empat'),\n",
    "    ('q0','5') : ('q1','lima'),\n",
    "    ('q0','6') : ('q1','enam'),\n",
    "    ('q1','1') : ('q1','satu'),\n",
    "    ('q1','2') : ('q1','dua'),\n",
    "    ('q1','3') : ('q1','tiga'),\n",
    "    ('q1','4') : ('q1','empat'),\n",
    "    ('q1','5') : ('q1','lima'),\n",
    "    ('q1','6') : ('q1','enam'),\n",
    "    ('q1','*') : ('','<accept>')   \n",
    "}"
   ]
  },
  {
   "cell_type": "code",
   "execution_count": 3,
   "id": "7f6a4aa5",
   "metadata": {},
   "outputs": [],
   "source": [
    "def nextState(arrInput, stateO, tabelTransisi):\n",
    "    \n",
    "    if (stateO,arrInput[0]) in tabelTransisi:\n",
    "        (stateN, output) = tabelTransisi[(stateO,arrInput[0])]\n",
    "    else:\n",
    "        return None \n",
    "\n",
    "    if len(arrInput) > 0 :\n",
    "        arrInput.pop(0)\n",
    "        return output, stateN, arrInput\n",
    "    else:\n",
    "        return output, stateN, arrInput"
   ]
  },
  {
   "cell_type": "code",
   "execution_count": 4,
   "id": "8a215dd5",
   "metadata": {},
   "outputs": [],
   "source": [
    "#contoh:\n",
    "\n",
    "# input \n",
    "untaiInput = '3512316241'\n",
    "untaiInput += '*'\n",
    "arrInput = list(untaiInput) \n",
    "\n",
    "# Stata awal\n",
    "q0 = 'q0'"
   ]
  },
  {
   "cell_type": "code",
   "execution_count": 5,
   "id": "4db53fd9",
   "metadata": {},
   "outputs": [
    {
     "data": {
      "text/plain": [
       "['3', '5', '1', '2', '3', '1', '6', '2', '4', '1', '*']"
      ]
     },
     "execution_count": 5,
     "metadata": {},
     "output_type": "execute_result"
    }
   ],
   "source": [
    "arrInput"
   ]
  },
  {
   "cell_type": "code",
   "execution_count": 6,
   "id": "54324485",
   "metadata": {},
   "outputs": [
    {
     "data": {
      "text/plain": [
       "'3'"
      ]
     },
     "execution_count": 6,
     "metadata": {},
     "output_type": "execute_result"
    }
   ],
   "source": [
    "arrInput[0]"
   ]
  },
  {
   "cell_type": "code",
   "execution_count": 7,
   "id": "efbf2d54",
   "metadata": {},
   "outputs": [
    {
     "data": {
      "text/plain": [
       "'1'"
      ]
     },
     "execution_count": 7,
     "metadata": {},
     "output_type": "execute_result"
    }
   ],
   "source": [
    "arrInput[9]"
   ]
  },
  {
   "cell_type": "code",
   "execution_count": 8,
   "id": "7a8c6793",
   "metadata": {},
   "outputs": [
    {
     "data": {
      "text/plain": [
       "['5', '1', '2', '3', '1', '6', '2', '4', '1', '*']"
      ]
     },
     "execution_count": 8,
     "metadata": {},
     "output_type": "execute_result"
    }
   ],
   "source": [
    "arrInput[1:]"
   ]
  },
  {
   "cell_type": "code",
   "execution_count": 9,
   "id": "49eaa40f",
   "metadata": {},
   "outputs": [
    {
     "data": {
      "text/plain": [
       "['1', '6', '2', '4', '1', '*']"
      ]
     },
     "execution_count": 9,
     "metadata": {},
     "output_type": "execute_result"
    }
   ],
   "source": [
    "arrInput[5:]"
   ]
  },
  {
   "cell_type": "code",
   "execution_count": 10,
   "id": "19a2c83a",
   "metadata": {},
   "outputs": [
    {
     "data": {
      "text/plain": [
       "['4', '1', '*']"
      ]
     },
     "execution_count": 10,
     "metadata": {},
     "output_type": "execute_result"
    }
   ],
   "source": [
    "arrInput[8:]"
   ]
  },
  {
   "cell_type": "code",
   "execution_count": 12,
   "id": "9cf6065d",
   "metadata": {},
   "outputs": [
    {
     "name": "stdout",
     "output_type": "stream",
     "text": [
      "analisis sintaks: \n",
      "(state Saat ini, token input dibaca) [untai input yang belum dibaca]\n",
      "( q0 , 5 ) ['1', '2', '3', '1', '6', '2', '4', '1', '*']\n",
      "--> output: ( lima , q1 )\n",
      "( q1 , 1 ) ['2', '3', '1', '6', '2', '4', '1', '*']\n",
      "--> output: ( satu , q1 )\n",
      "( q1 , 2 ) ['3', '1', '6', '2', '4', '1', '*']\n",
      "--> output: ( dua , q1 )\n",
      "( q1 , 3 ) ['1', '6', '2', '4', '1', '*']\n",
      "--> output: ( tiga , q1 )\n",
      "( q1 , 1 ) ['6', '2', '4', '1', '*']\n",
      "--> output: ( satu , q1 )\n",
      "( q1 , 6 ) ['2', '4', '1', '*']\n",
      "--> output: ( enam , q1 )\n",
      "( q1 , 2 ) ['4', '1', '*']\n",
      "--> output: ( dua , q1 )\n",
      "( q1 , 4 ) ['1', '*']\n",
      "--> output: ( empat , q1 )\n",
      "( q1 , 1 ) ['*']\n",
      "--> output: ( satu , q1 )\n",
      "( q1 , * ) []\n",
      "--> output: ( <accept> ,  )\n"
     ]
    }
   ],
   "source": [
    "print('analisis sintaks: ')\n",
    "print('(state Saat ini, token input dibaca) [untai input yang belum dibaca]')\n",
    "untaiOutput = ''\n",
    "untaiState = q0 + ' '\n",
    "adaError = False\n",
    "for i in range(len(arrInput)):\n",
    "    print('(', q0, ',', arrInput[0],')',arrInput[1:])\n",
    "    \n",
    "    hasil_parsing = nextState(arrInput, q0, tabelTransisi)\n",
    "\n",
    "    if hasil_parsing is None:\n",
    "        output = ' -> parsing error di sini, tidak bisa melanjutkan proses'\n",
    "        stateN = '<stop>'\n",
    "        adaError = True \n",
    "    else:\n",
    "        output, stateN, arrInput = hasil_parsing\n",
    "\n",
    "\n",
    "    print('--> output: (', output, ',', stateN, ')')\n",
    "    untaiOutput += output + ' '\n",
    "    untaiState += stateN + ' '\n",
    "    q0 = stateN\n",
    "    if adaError: break"
   ]
  },
  {
   "cell_type": "code",
   "execution_count": 13,
   "id": "d2d6934b",
   "metadata": {},
   "outputs": [
    {
     "name": "stdout",
     "output_type": "stream",
     "text": [
      "untai input asal : 3512316241*\n",
      "untai state :  q0 q1 q1 q1 q1 q1 q1 q1 q1 q1  \n",
      "untai output:  lima satu dua tiga satu enam dua empat satu <accept> \n",
      "parsing SUKSES, input diterima\n"
     ]
    }
   ],
   "source": [
    "print('untai input asal :', untaiInput)\n",
    "print('untai state : ', untaiState)\n",
    "print('untai output: ', untaiOutput)\n",
    "if len(arrInput) > 1:\n",
    "    print('parsing berhenti di sini, input DITOLAK: ', arrInput)\n",
    "else:\n",
    "    print('parsing SUKSES, input diterima')"
   ]
  },
  {
   "cell_type": "code",
   "execution_count": 16,
   "id": "476afa31",
   "metadata": {},
   "outputs": [],
   "source": [
    "#contoh:\n",
    "\n",
    "# input \n",
    "untaiInput = '3517316241'\n",
    "untaiInput += '*'\n",
    "arrInput = list(untaiInput) \n",
    "\n",
    "# Stata awal\n",
    "q0 = 'q0'"
   ]
  },
  {
   "cell_type": "code",
   "execution_count": 17,
   "id": "df90ee8d",
   "metadata": {},
   "outputs": [
    {
     "name": "stdout",
     "output_type": "stream",
     "text": [
      "analisis sintaks: \n",
      "(state Saat ini, token input dibaca) [untai input yang belum dibaca]\n",
      "( q0 , 3 ) ['5', '1', '7', '3', '1', '6', '2', '4', '1', '*']\n",
      "--> output: ( tiga , q1 )\n",
      "( q1 , 5 ) ['1', '7', '3', '1', '6', '2', '4', '1', '*']\n",
      "--> output: ( lima , q1 )\n",
      "( q1 , 1 ) ['7', '3', '1', '6', '2', '4', '1', '*']\n",
      "--> output: ( satu , q1 )\n",
      "( q1 , 7 ) ['3', '1', '6', '2', '4', '1', '*']\n",
      "--> output: (  -> parsing error di sini, tidak bisa melanjutkan proses , <stop> )\n"
     ]
    }
   ],
   "source": [
    "print('analisis sintaks: ')\n",
    "print('(state Saat ini, token input dibaca) [untai input yang belum dibaca]')\n",
    "untaiOutput = ''\n",
    "untaiState = q0 + ' '\n",
    "adaError = False\n",
    "for i in range(len(arrInput)):\n",
    "    print('(', q0, ',', arrInput[0],')',arrInput[1:])\n",
    "    \n",
    "    hasil_parsing = nextState(arrInput, q0, tabelTransisi)\n",
    "\n",
    "    if hasil_parsing is None:\n",
    "        output = ' -> parsing error di sini, tidak bisa melanjutkan proses'\n",
    "        stateN = '<stop>'\n",
    "        adaError = True \n",
    "    else:\n",
    "        output, stateN, arrInput = hasil_parsing\n",
    "\n",
    "\n",
    "    print('--> output: (', output, ',', stateN, ')')\n",
    "    untaiOutput += output + ' '\n",
    "    untaiState += stateN + ' '\n",
    "    q0 = stateN\n",
    "    if adaError: break"
   ]
  },
  {
   "cell_type": "code",
   "execution_count": 18,
   "id": "4cd5ebfb",
   "metadata": {},
   "outputs": [
    {
     "name": "stdout",
     "output_type": "stream",
     "text": [
      "untai input asal : 3517316241*\n",
      "untai state :  q0 q1 q1 q1 <stop> \n",
      "untai output:  tiga lima satu  -> parsing error di sini, tidak bisa melanjutkan proses \n",
      "parsing berhenti di sini, input DITOLAK:  ['7', '3', '1', '6', '2', '4', '1', '*']\n"
     ]
    }
   ],
   "source": [
    "print('untai input asal :', untaiInput)\n",
    "print('untai state : ', untaiState)\n",
    "print('untai output: ', untaiOutput)\n",
    "if len(arrInput) > 1:\n",
    "    print('parsing berhenti di sini, input DITOLAK: ', arrInput)\n",
    "else:\n",
    "    print('parsing SUKSES, input diterima')"
   ]
  },
  {
   "cell_type": "code",
   "execution_count": 15,
   "id": "18fe2bdb",
   "metadata": {},
   "outputs": [],
   "source": [
    "def nextStateRekursi(arrInput, stateO, tabelTransisi, listOutput):\n",
    "    \n",
    "    if len(arrInput) > 0 :\n",
    "        if (stateO,arrInput[0]) in tabelTransisi:\n",
    "            (stateN, output) = tabelTransisi[(stateO,arrInput[0])]\n",
    "            listOutput.append(output)\n",
    "        else:\n",
    "            print('Parsing error di sini')\n",
    "            listOutput.append('<reject>')\n",
    "            return listOutput \n",
    "        print('f(',stateO,',', arrInput[0],'): string belum dibaca', arrInput[1:])           \n",
    "        arrInput.pop(0)\n",
    "        return nextStateRekursi(arrInput, stateN, tabelTransisi, listOutput)\n",
    "    else:\n",
    "        print('Parsing SUKSES')\n",
    "        return listOutput    "
   ]
  },
  {
   "cell_type": "code",
   "execution_count": 19,
   "id": "9714edaf",
   "metadata": {},
   "outputs": [],
   "source": [
    "#contoh:\n",
    "\n",
    "# input \n",
    "untaiInput = '3517316241'\n",
    "untaiInput += '*'\n",
    "arrInput = list(untaiInput) \n",
    "\n",
    "# Stata awal\n",
    "q0 = 'q0'"
   ]
  },
  {
   "cell_type": "code",
   "execution_count": 20,
   "id": "113c4500",
   "metadata": {},
   "outputs": [
    {
     "name": "stdout",
     "output_type": "stream",
     "text": [
      "f( q0 , 3 ): string belum dibaca ['5', '1', '7', '3', '1', '6', '2', '4', '1', '*']\n",
      "f( q1 , 5 ): string belum dibaca ['1', '7', '3', '1', '6', '2', '4', '1', '*']\n",
      "f( q1 , 1 ): string belum dibaca ['7', '3', '1', '6', '2', '4', '1', '*']\n",
      "Parsing error di sini\n"
     ]
    }
   ],
   "source": [
    "listOutput = []\n",
    "output = nextStateRekursi(arrInput, q0, tabelTransisi, listOutput)"
   ]
  },
  {
   "cell_type": "code",
   "execution_count": 21,
   "id": "dcd6dbaf",
   "metadata": {},
   "outputs": [
    {
     "name": "stdout",
     "output_type": "stream",
     "text": [
      "string input : 3517316241*\n",
      "string output:\n",
      "tiga lima satu <reject> "
     ]
    }
   ],
   "source": [
    "print('string input :', untaiInput)\n",
    "print('string output:')\n",
    "for o in output: print(o,end=' ')"
   ]
  },
  {
   "cell_type": "code",
   "execution_count": 23,
   "id": "ebfd1287",
   "metadata": {},
   "outputs": [],
   "source": [
    "#contoh:\n",
    "\n",
    "# input \n",
    "untaiInput = '3513416241'\n",
    "untaiInput += '*'\n",
    "arrInput = list(untaiInput) \n",
    "\n",
    "# Stata awal\n",
    "q0 = 'q0'"
   ]
  },
  {
   "cell_type": "code",
   "execution_count": 24,
   "id": "ce5c0593",
   "metadata": {},
   "outputs": [
    {
     "name": "stdout",
     "output_type": "stream",
     "text": [
      "f( q0 , 3 ): string belum dibaca ['5', '1', '3', '4', '1', '6', '2', '4', '1', '*']\n",
      "f( q1 , 5 ): string belum dibaca ['1', '3', '4', '1', '6', '2', '4', '1', '*']\n",
      "f( q1 , 1 ): string belum dibaca ['3', '4', '1', '6', '2', '4', '1', '*']\n",
      "f( q1 , 3 ): string belum dibaca ['4', '1', '6', '2', '4', '1', '*']\n",
      "f( q1 , 4 ): string belum dibaca ['1', '6', '2', '4', '1', '*']\n",
      "f( q1 , 1 ): string belum dibaca ['6', '2', '4', '1', '*']\n",
      "f( q1 , 6 ): string belum dibaca ['2', '4', '1', '*']\n",
      "f( q1 , 2 ): string belum dibaca ['4', '1', '*']\n",
      "f( q1 , 4 ): string belum dibaca ['1', '*']\n",
      "f( q1 , 1 ): string belum dibaca ['*']\n",
      "f( q1 , * ): string belum dibaca []\n",
      "Parsing SUKSES\n"
     ]
    }
   ],
   "source": [
    "listOutput = []\n",
    "output = nextStateRekursi(arrInput, q0, tabelTransisi, listOutput)"
   ]
  },
  {
   "cell_type": "code",
   "execution_count": 25,
   "id": "ba25eb81",
   "metadata": {},
   "outputs": [
    {
     "name": "stdout",
     "output_type": "stream",
     "text": [
      "string input : 3513416241*\n",
      "string output:\n",
      "tiga lima satu tiga empat satu enam dua empat satu <accept> "
     ]
    }
   ],
   "source": [
    "print('string input :', untaiInput)\n",
    "print('string output:')\n",
    "for o in output: print(o,end=' ')"
   ]
  },
  {
   "cell_type": "code",
   "execution_count": 26,
   "id": "32a1ac20",
   "metadata": {},
   "outputs": [],
   "source": [
    "#contoh:\n",
    "\n",
    "# input \n",
    "untaiInput = '1'\n",
    "untaiInput += '*'\n",
    "arrInput = list(untaiInput) \n",
    "\n",
    "# Stata awal\n",
    "q0 = 'q0'"
   ]
  },
  {
   "cell_type": "code",
   "execution_count": 28,
   "id": "1f97f20c",
   "metadata": {},
   "outputs": [
    {
     "name": "stdout",
     "output_type": "stream",
     "text": [
      "f( q0 , 1 ): string belum dibaca ['*']\n",
      "f( q1 , * ): string belum dibaca []\n",
      "Parsing SUKSES\n"
     ]
    }
   ],
   "source": [
    "listOutput = []\n",
    "output = nextStateRekursi(arrInput, q0, tabelTransisi, listOutput)"
   ]
  },
  {
   "cell_type": "code",
   "execution_count": 29,
   "id": "16e3d31d",
   "metadata": {},
   "outputs": [
    {
     "name": "stdout",
     "output_type": "stream",
     "text": [
      "string input : 1*\n",
      "string output:\n",
      "satu <accept> "
     ]
    }
   ],
   "source": [
    "print('string input :', untaiInput)\n",
    "print('string output:')\n",
    "for o in output: print(o,end=' ')"
   ]
  },
  {
   "cell_type": "code",
   "execution_count": 30,
   "id": "091715a8",
   "metadata": {},
   "outputs": [],
   "source": [
    "#contoh:\n",
    "\n",
    "# input \n",
    "untaiInput = '7'\n",
    "untaiInput += '*'\n",
    "arrInput = list(untaiInput) \n",
    "\n",
    "# Stata awal\n",
    "q0 = 'q0'"
   ]
  },
  {
   "cell_type": "code",
   "execution_count": 31,
   "id": "a8aca3c9",
   "metadata": {},
   "outputs": [
    {
     "name": "stdout",
     "output_type": "stream",
     "text": [
      "Parsing error di sini\n"
     ]
    }
   ],
   "source": [
    "listOutput = []\n",
    "output = nextStateRekursi(arrInput, q0, tabelTransisi, listOutput)"
   ]
  },
  {
   "cell_type": "code",
   "execution_count": 32,
   "id": "898ca2b2",
   "metadata": {},
   "outputs": [
    {
     "name": "stdout",
     "output_type": "stream",
     "text": [
      "string input : 7*\n",
      "string output:\n",
      "<reject> "
     ]
    }
   ],
   "source": [
    "print('string input :', untaiInput)\n",
    "print('string output:')\n",
    "for o in output: print(o,end=' ')"
   ]
  },
  {
   "cell_type": "code",
   "execution_count": null,
   "id": "1eb910ed",
   "metadata": {},
   "outputs": [],
   "source": []
  }
 ],
 "metadata": {
  "kernelspec": {
   "display_name": "Python 3",
   "language": "python",
   "name": "python3"
  },
  "language_info": {
   "codemirror_mode": {
    "name": "ipython",
    "version": 3
   },
   "file_extension": ".py",
   "mimetype": "text/x-python",
   "name": "python",
   "nbconvert_exporter": "python",
   "pygments_lexer": "ipython3",
   "version": "3.8.8"
  }
 },
 "nbformat": 4,
 "nbformat_minor": 5
}
