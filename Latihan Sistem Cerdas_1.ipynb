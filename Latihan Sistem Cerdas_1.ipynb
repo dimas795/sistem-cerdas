{
 "cells": [
  {
   "cell_type": "code",
   "execution_count": 3,
   "id": "f0e32fa4",
   "metadata": {},
   "outputs": [],
   "source": [
    "import statistics"
   ]
  },
  {
   "cell_type": "code",
   "execution_count": 21,
   "id": "a5a7af16",
   "metadata": {},
   "outputs": [],
   "source": [
    "P = [2, 4, 4, 4, 5, 5, 7, 9]"
   ]
  },
  {
   "cell_type": "code",
   "execution_count": 5,
   "id": "a65bfc82",
   "metadata": {},
   "outputs": [
    {
     "data": {
      "text/plain": [
       "5"
      ]
     },
     "execution_count": 5,
     "metadata": {},
     "output_type": "execute_result"
    }
   ],
   "source": [
    "statistics.mean(P)"
   ]
  },
  {
   "cell_type": "code",
   "execution_count": 6,
   "id": "aedb6e86",
   "metadata": {},
   "outputs": [],
   "source": [
    "import numpy as np"
   ]
  },
  {
   "cell_type": "code",
   "execution_count": 22,
   "id": "b5d99070",
   "metadata": {},
   "outputs": [],
   "source": [
    "Q = [2, 4, 4, 4, 5, 5, 7, 9]"
   ]
  },
  {
   "cell_type": "code",
   "execution_count": 8,
   "id": "b34a8a1b",
   "metadata": {},
   "outputs": [
    {
     "data": {
      "text/plain": [
       "5.0"
      ]
     },
     "execution_count": 8,
     "metadata": {},
     "output_type": "execute_result"
    }
   ],
   "source": [
    "np.mean(Q)"
   ]
  },
  {
   "cell_type": "code",
   "execution_count": 9,
   "id": "2e171678",
   "metadata": {},
   "outputs": [
    {
     "data": {
      "text/plain": [
       "2.0"
      ]
     },
     "execution_count": 9,
     "metadata": {},
     "output_type": "execute_result"
    }
   ],
   "source": [
    "np.std(P)"
   ]
  },
  {
   "cell_type": "code",
   "execution_count": 10,
   "id": "937796fb",
   "metadata": {},
   "outputs": [
    {
     "data": {
      "text/plain": [
       "2.0"
      ]
     },
     "execution_count": 10,
     "metadata": {},
     "output_type": "execute_result"
    }
   ],
   "source": [
    "np.std(Q)"
   ]
  },
  {
   "cell_type": "code",
   "execution_count": 11,
   "id": "3c649ddf",
   "metadata": {},
   "outputs": [
    {
     "data": {
      "text/plain": [
       "4.5"
      ]
     },
     "execution_count": 11,
     "metadata": {},
     "output_type": "execute_result"
    }
   ],
   "source": [
    "np.median(P)"
   ]
  },
  {
   "cell_type": "code",
   "execution_count": 12,
   "id": "dbff6b31",
   "metadata": {},
   "outputs": [
    {
     "data": {
      "text/plain": [
       "9"
      ]
     },
     "execution_count": 12,
     "metadata": {},
     "output_type": "execute_result"
    }
   ],
   "source": [
    "np.max(P)"
   ]
  },
  {
   "cell_type": "code",
   "execution_count": 13,
   "id": "b9369103",
   "metadata": {},
   "outputs": [
    {
     "data": {
      "text/plain": [
       "2"
      ]
     },
     "execution_count": 13,
     "metadata": {},
     "output_type": "execute_result"
    }
   ],
   "source": [
    "np.min(P)"
   ]
  },
  {
   "cell_type": "code",
   "execution_count": 14,
   "id": "8639dd0e",
   "metadata": {},
   "outputs": [
    {
     "data": {
      "text/plain": [
       "4.0"
      ]
     },
     "execution_count": 14,
     "metadata": {},
     "output_type": "execute_result"
    }
   ],
   "source": [
    "np.percentile(P, 25)"
   ]
  },
  {
   "cell_type": "code",
   "execution_count": 15,
   "id": "5bf52688",
   "metadata": {},
   "outputs": [
    {
     "data": {
      "text/plain": [
       "4.5"
      ]
     },
     "execution_count": 15,
     "metadata": {},
     "output_type": "execute_result"
    }
   ],
   "source": [
    "np.percentile(P, 50)"
   ]
  },
  {
   "cell_type": "code",
   "execution_count": 16,
   "id": "f2114666",
   "metadata": {},
   "outputs": [
    {
     "data": {
      "text/plain": [
       "5.5"
      ]
     },
     "execution_count": 16,
     "metadata": {},
     "output_type": "execute_result"
    }
   ],
   "source": [
    "np.percentile(P, 75)"
   ]
  },
  {
   "cell_type": "code",
   "execution_count": 17,
   "id": "1c03b5e9",
   "metadata": {},
   "outputs": [
    {
     "data": {
      "text/plain": [
       "4.0"
      ]
     },
     "execution_count": 17,
     "metadata": {},
     "output_type": "execute_result"
    }
   ],
   "source": [
    "np.var(Q)"
   ]
  },
  {
   "cell_type": "code",
   "execution_count": 18,
   "id": "063fce35",
   "metadata": {},
   "outputs": [],
   "source": [
    "P = [2, 4, 4, 4, 5, 5, 7, 9]\n",
    "Q = [10, 13, 15, 14, 13, 16, 18, 21]"
   ]
  },
  {
   "cell_type": "code",
   "execution_count": 19,
   "id": "ce0879ff",
   "metadata": {},
   "outputs": [
    {
     "data": {
      "text/plain": [
       "array([[ 4.57142857,  6.85714286],\n",
       "       [ 6.85714286, 11.42857143]])"
      ]
     },
     "execution_count": 19,
     "metadata": {},
     "output_type": "execute_result"
    }
   ],
   "source": [
    "np.cov(P,Q)"
   ]
  },
  {
   "cell_type": "code",
   "execution_count": 20,
   "id": "574e3dd0",
   "metadata": {},
   "outputs": [],
   "source": [
    "A = [2, 4, 4, 4, 5, 5, 7, 9]\n",
    "B = [10, 13, 15, 14, 13, 16, 18, 21]"
   ]
  },
  {
   "cell_type": "code",
   "execution_count": 23,
   "id": "ce686cdc",
   "metadata": {},
   "outputs": [
    {
     "data": {
      "text/plain": [
       "array([[ 4.57142857,  6.85714286],\n",
       "       [ 6.85714286, 11.42857143]])"
      ]
     },
     "execution_count": 23,
     "metadata": {},
     "output_type": "execute_result"
    }
   ],
   "source": [
    "np.cov(A,B)"
   ]
  },
  {
   "cell_type": "code",
   "execution_count": 24,
   "id": "5467dfbb",
   "metadata": {},
   "outputs": [
    {
     "data": {
      "text/plain": [
       "array([4.57142857, 6.85714286])"
      ]
     },
     "execution_count": 24,
     "metadata": {},
     "output_type": "execute_result"
    }
   ],
   "source": [
    "np.cov(A,B)[0,]"
   ]
  },
  {
   "cell_type": "code",
   "execution_count": 25,
   "id": "eae5e5f5",
   "metadata": {},
   "outputs": [
    {
     "data": {
      "text/plain": [
       "4.571428571428571"
      ]
     },
     "execution_count": 25,
     "metadata": {},
     "output_type": "execute_result"
    }
   ],
   "source": [
    "np.cov(A,B)[0,0]"
   ]
  },
  {
   "cell_type": "code",
   "execution_count": 27,
   "id": "7f4e0508",
   "metadata": {},
   "outputs": [
    {
     "data": {
      "text/plain": [
       "11.428571428571427"
      ]
     },
     "execution_count": 27,
     "metadata": {},
     "output_type": "execute_result"
    }
   ],
   "source": [
    "np.cov(A,B)[1,1]"
   ]
  },
  {
   "cell_type": "code",
   "execution_count": 28,
   "id": "4ce37a6c",
   "metadata": {},
   "outputs": [
    {
     "data": {
      "text/plain": [
       "array([[1.       , 0.9486833],\n",
       "       [0.9486833, 1.       ]])"
      ]
     },
     "execution_count": 28,
     "metadata": {},
     "output_type": "execute_result"
    }
   ],
   "source": [
    "np.corrcoef(A,B)"
   ]
  },
  {
   "cell_type": "code",
   "execution_count": null,
   "id": "d6c3ff1b",
   "metadata": {},
   "outputs": [],
   "source": []
  }
 ],
 "metadata": {
  "kernelspec": {
   "display_name": "Python 3",
   "language": "python",
   "name": "python3"
  },
  "language_info": {
   "codemirror_mode": {
    "name": "ipython",
    "version": 3
   },
   "file_extension": ".py",
   "mimetype": "text/x-python",
   "name": "python",
   "nbconvert_exporter": "python",
   "pygments_lexer": "ipython3",
   "version": "3.8.8"
  }
 },
 "nbformat": 4,
 "nbformat_minor": 5
}
